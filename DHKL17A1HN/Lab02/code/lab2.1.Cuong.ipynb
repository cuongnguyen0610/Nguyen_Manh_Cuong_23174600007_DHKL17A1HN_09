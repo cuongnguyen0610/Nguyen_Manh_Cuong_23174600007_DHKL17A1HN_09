{
 "cells": [
  {
   "cell_type": "code",
   "execution_count": 1,
   "metadata": {},
   "outputs": [],
   "source": [
    "import numpy as np"
   ]
  },
  {
   "cell_type": "markdown",
   "metadata": {},
   "source": [
    "1.Tạo mảng mô phỏng dữ liệu"
   ]
  },
  {
   "cell_type": "code",
   "execution_count": 4,
   "metadata": {},
   "outputs": [
    {
     "data": {
      "text/plain": [
       "array([19.89, 14.56, 15.11, 17.93, 17.55, 29.93, 18.16, 25.44, 25.21,\n",
       "       16.2 , 16.93, 17.04, 12.91, 29.45, 28.18, 21.2 , 16.27, 27.76,\n",
       "       23.49, 17.82, 20.14, 20.48, 28.56, 21.43, 23.37, 11.05, 16.54,\n",
       "       11.13, 13.6 , 28.52])"
      ]
     },
     "execution_count": 4,
     "metadata": {},
     "output_type": "execute_result"
    }
   ],
   "source": [
    "np.random.seed(50)\n",
    "du_lieu_nhiet_do = np.round(np.random.uniform(10,30,size=(30)),2)\n",
    "du_lieu_nhiet_do"
   ]
  },
  {
   "cell_type": "code",
   "execution_count": 6,
   "metadata": {},
   "outputs": [
    {
     "name": "stdout",
     "output_type": "stream",
     "text": [
      "Nhiêt độ trung bình:20.194999999999997\n"
     ]
    }
   ],
   "source": [
    "nhiet_do_trung_binh = np.mean(du_lieu_nhiet_do)\n",
    "print(f\"Nhiêt độ trung bình:{nhiet_do_trung_binh}\")"
   ]
  },
  {
   "cell_type": "markdown",
   "metadata": {},
   "source": [
    "2.Phân tích xu hướng nhiệt độ"
   ]
  },
  {
   "cell_type": "code",
   "execution_count": 9,
   "metadata": {},
   "outputs": [
    {
     "data": {
      "text/plain": [
       "6"
      ]
     },
     "execution_count": 9,
     "metadata": {},
     "output_type": "execute_result"
    }
   ],
   "source": [
    "ngay_max_nhiet_do = np.argmax(du_lieu_nhiet_do)+1\n",
    "print(\"Ngày nhiệt độ cao nhất\",ngay_max_nhiet_do)"
   ]
  },
  {
   "cell_type": "code",
   "execution_count": 10,
   "metadata": {},
   "outputs": [
    {
     "data": {
      "text/plain": [
       "26"
      ]
     },
     "execution_count": 10,
     "metadata": {},
     "output_type": "execute_result"
    }
   ],
   "source": [
    "ngay_min_nhiet_do = np.argmin(du_lieu_nhiet_do)+1\n",
    "print(\"Ngày nhiệt độ thấp nhất\",ngay_min_nhiet_do)"
   ]
  },
  {
   "cell_type": "code",
   "execution_count": 11,
   "metadata": {},
   "outputs": [
    {
     "data": {
      "text/plain": [
       "array([19.89, 14.56, 15.11, 17.93, 17.55, 29.93, 18.16, 25.44, 25.21,\n",
       "       16.2 , 16.93, 17.04, 12.91, 29.45, 28.18, 21.2 , 16.27, 27.76,\n",
       "       23.49, 17.82, 20.14, 20.48, 28.56, 21.43, 23.37, 11.05, 16.54,\n",
       "       11.13, 13.6 ])"
      ]
     },
     "execution_count": 11,
     "metadata": {},
     "output_type": "execute_result"
    }
   ],
   "source": [
    "ngay_truoc = du_lieu_nhiet_do[:-1]\n",
    "ngay_truoc"
   ]
  },
  {
   "cell_type": "code",
   "execution_count": 12,
   "metadata": {},
   "outputs": [
    {
     "data": {
      "text/plain": [
       "array([14.56, 15.11, 17.93, 17.55, 29.93, 18.16, 25.44, 25.21, 16.2 ,\n",
       "       16.93, 17.04, 12.91, 29.45, 28.18, 21.2 , 16.27, 27.76, 23.49,\n",
       "       17.82, 20.14, 20.48, 28.56, 21.43, 23.37, 11.05, 16.54, 11.13,\n",
       "       13.6 , 28.52])"
      ]
     },
     "execution_count": 12,
     "metadata": {},
     "output_type": "execute_result"
    }
   ],
   "source": [
    "ngay_sau = du_lieu_nhiet_do[1:]\n",
    "ngay_sau"
   ]
  },
  {
   "cell_type": "code",
   "execution_count": 13,
   "metadata": {},
   "outputs": [
    {
     "name": "stdout",
     "output_type": "stream",
     "text": [
      "Chênh lệch nhiệt độ: [ -5.33   0.55   2.82  -0.38  12.38 -11.77   7.28  -0.23  -9.01   0.73\n",
      "   0.11  -4.13  16.54  -1.27  -6.98  -4.93  11.49  -4.27  -5.67   2.32\n",
      "   0.34   8.08  -7.13   1.94 -12.32   5.49  -5.41   2.47  14.92]\n"
     ]
    }
   ],
   "source": [
    "chenh_lech = ngay_sau-ngay_truoc\n",
    "print(\"Chênh lệch nhiệt độ:\",chenh_lech)\n"
   ]
  },
  {
   "cell_type": "code",
   "execution_count": 17,
   "metadata": {},
   "outputs": [
    {
     "name": "stdout",
     "output_type": "stream",
     "text": [
      "Ngày có sự biến đổi nhiệt cao nhất\n"
     ]
    },
    {
     "data": {
      "text/plain": [
       "12"
      ]
     },
     "execution_count": 17,
     "metadata": {},
     "output_type": "execute_result"
    }
   ],
   "source": [
    "print(\"Ngày có sự biến đổi nhiệt cao nhất\")\n",
    "ngay_chenh_lech_cao_nhat = np.argmax(np.diff(chenh_lech)) + 1\n",
    "ngay_chenh_lech_cao_nhat"
   ]
  },
  {
   "cell_type": "markdown",
   "metadata": {},
   "source": [
    "3. Áp dụng Fancy Indexing"
   ]
  },
  {
   "cell_type": "code",
   "execution_count": 18,
   "metadata": {},
   "outputs": [
    {
     "name": "stdout",
     "output_type": "stream",
     "text": [
      "Tất cả các ngày có nhiệt độ cao hơn 20 độ C: [ 6  8  9 14 15 16 18 19 21 22 23 24 25 30]\n"
     ]
    }
   ],
   "source": [
    "ngay_nhiet_do_cao_hon_20 = np.where(du_lieu_nhiet_do > 20)[0] + 1\n",
    "print(f\"Tất cả các ngày có nhiệt độ cao hơn 20 độ C: {ngay_nhiet_do_cao_hon_20}\")"
   ]
  }
 ],
 "metadata": {
  "kernelspec": {
   "display_name": "Python 3",
   "language": "python",
   "name": "python3"
  },
  "language_info": {
   "codemirror_mode": {
    "name": "ipython",
    "version": 3
   },
   "file_extension": ".py",
   "mimetype": "text/x-python",
   "name": "python",
   "nbconvert_exporter": "python",
   "pygments_lexer": "ipython3",
   "version": "3.9.6"
  }
 },
 "nbformat": 4,
 "nbformat_minor": 2
}
