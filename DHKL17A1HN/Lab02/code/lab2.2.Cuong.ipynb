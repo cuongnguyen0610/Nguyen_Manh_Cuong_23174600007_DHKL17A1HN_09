{
 "cells": [
  {
   "cell_type": "code",
   "execution_count": 5,
   "metadata": {},
   "outputs": [],
   "source": [
    "import numpy as np\n",
    "import csv"
   ]
  },
  {
   "cell_type": "markdown",
   "metadata": {},
   "source": [
    "Phan tích dữ liệu điểm số sinh viên"
   ]
  },
  {
   "cell_type": "markdown",
   "metadata": {},
   "source": [
    "1.Đọc dữ liệu từ file csv"
   ]
  },
  {
   "cell_type": "code",
   "execution_count": 28,
   "metadata": {},
   "outputs": [
    {
     "data": {
      "text/plain": [
       "[{'id': 1,\n",
       "  'Tên sinh viên': 'Nguyễn Văn Bình',\n",
       "  'HP 1': 3.04,\n",
       "  'HP 2': 3.39,\n",
       "  'HP 3': 6.7},\n",
       " {'id': 2,\n",
       "  'Tên sinh viên': 'Lê Thị Na',\n",
       "  'HP 1': 5.8,\n",
       "  'HP 2': 6.41,\n",
       "  'HP 3': 6.62},\n",
       " {'id': 3,\n",
       "  'Tên sinh viên': 'Trần Văn Thành',\n",
       "  'HP 1': 2.59,\n",
       "  'HP 2': 3.57,\n",
       "  'HP 3': 9.16},\n",
       " {'id': 4,\n",
       "  'Tên sinh viên': 'Phạm Thị Hồng',\n",
       "  'HP 1': 3.81,\n",
       "  'HP 2': 8.78,\n",
       "  'HP 3': 9.24},\n",
       " {'id': 5,\n",
       "  'Tên sinh viên': 'Bùi Văn An',\n",
       "  'HP 1': 8.91,\n",
       "  'HP 2': 9.64,\n",
       "  'HP 3': 6.39},\n",
       " {'id': 6,\n",
       "  'Tên sinh viên': 'Hoàng Thị Lan',\n",
       "  'HP 1': 3.23,\n",
       "  'HP 2': 4.72,\n",
       "  'HP 3': 6.17},\n",
       " {'id': 7,\n",
       "  'Tên sinh viên': 'Vũ Văn Hùng',\n",
       "  'HP 1': 2.35,\n",
       "  'HP 2': 3.29,\n",
       "  'HP 3': 6.89},\n",
       " {'id': 8,\n",
       "  'Tên sinh viên': 'Đặng Thị Mai',\n",
       "  'HP 1': 2.48,\n",
       "  'HP 2': 3.81,\n",
       "  'HP 3': 4.84},\n",
       " {'id': 9,\n",
       "  'Tên sinh viên': 'Đỗ Văn Hải',\n",
       "  'HP 1': 3.23,\n",
       "  'HP 2': 2.61,\n",
       "  'HP 3': 4.52},\n",
       " {'id': 10,\n",
       "  'Tên sinh viên': 'Ngô Thị Thanh',\n",
       "  'HP 1': 7.02,\n",
       "  'HP 2': 9.01,\n",
       "  'HP 3': 9.15},\n",
       " {'id': 11,\n",
       "  'Tên sinh viên': 'Lương Văn Dũng',\n",
       "  'HP 1': 2.29,\n",
       "  'HP 2': 4.48,\n",
       "  'HP 3': 5.51},\n",
       " {'id': 12,\n",
       "  'Tên sinh viên': 'Mai Thị Hằng',\n",
       "  'HP 1': 3.51,\n",
       "  'HP 2': 7.19,\n",
       "  'HP 3': 5.13},\n",
       " {'id': 13,\n",
       "  'Tên sinh viên': 'Dương Văn Long',\n",
       "  'HP 1': 6.74,\n",
       "  'HP 2': 7.78,\n",
       "  'HP 3': 6.19},\n",
       " {'id': 14,\n",
       "  'Tên sinh viên': 'Nguyễn Thị Hà',\n",
       "  'HP 1': 9.86,\n",
       "  'HP 2': 4.64,\n",
       "  'HP 3': 3.33},\n",
       " {'id': 15,\n",
       "  'Tên sinh viên': 'Trần Văn Tuấn',\n",
       "  'HP 1': 8.04,\n",
       "  'HP 2': 5.12,\n",
       "  'HP 3': 4.77},\n",
       " {'id': 16,\n",
       "  'Tên sinh viên': 'Lê Văn Phúc',\n",
       "  'HP 1': 2.74,\n",
       "  'HP 2': 8.88,\n",
       "  'HP 3': 5.8},\n",
       " {'id': 17,\n",
       "  'Tên sinh viên': 'Phạm Thị Nhung',\n",
       "  'HP 1': 3.04,\n",
       "  'HP 2': 6.88,\n",
       "  'HP 3': 3.91},\n",
       " {'id': 18,\n",
       "  'Tên sinh viên': 'Hoàng Văn Nam',\n",
       "  'HP 1': 5.87,\n",
       "  'HP 2': 4.41,\n",
       "  'HP 3': 8.84},\n",
       " {'id': 19,\n",
       "  'Tên sinh viên': 'Bùi Thị Lan',\n",
       "  'HP 1': 8.46,\n",
       "  'HP 2': 2.63,\n",
       "  'HP 3': 4.91},\n",
       " {'id': 20,\n",
       "  'Tên sinh viên': 'Vũ Thị Thanh',\n",
       "  'HP 1': 3.74,\n",
       "  'HP 2': 6.71,\n",
       "  'HP 3': 3.44},\n",
       " {'id': 21,\n",
       "  'Tên sinh viên': 'Đặng Văn Hùng',\n",
       "  'HP 1': 5.67,\n",
       "  'HP 2': 8.05,\n",
       "  'HP 3': 6.03},\n",
       " {'id': 22,\n",
       "  'Tên sinh viên': 'Đỗ Thị Hồng',\n",
       "  'HP 1': 8.12,\n",
       "  'HP 2': 2.46,\n",
       "  'HP 3': 3.87},\n",
       " {'id': 23,\n",
       "  'Tên sinh viên': 'Ngô Văn Thành',\n",
       "  'HP 1': 9.4,\n",
       "  'HP 2': 5.31,\n",
       "  'HP 3': 5.13},\n",
       " {'id': 24,\n",
       "  'Tên sinh viên': 'Lương Thị Mai',\n",
       "  'HP 1': 3.91,\n",
       "  'HP 2': 5.09,\n",
       "  'HP 3': 8.82},\n",
       " {'id': 25,\n",
       "  'Tên sinh viên': 'Mai Văn Dũng',\n",
       "  'HP 1': 4.26,\n",
       "  'HP 2': 5.78,\n",
       "  'HP 3': 8.14},\n",
       " {'id': 26,\n",
       "  'Tên sinh viên': 'Dương Thị Hằng',\n",
       "  'HP 1': 4.41,\n",
       "  'HP 2': 2.66,\n",
       "  'HP 3': 5.4},\n",
       " {'id': 27,\n",
       "  'Tên sinh viên': 'Nguyễn Văn Long',\n",
       "  'HP 1': 3.23,\n",
       "  'HP 2': 8.3,\n",
       "  'HP 3': 8.64},\n",
       " {'id': 28,\n",
       "  'Tên sinh viên': 'Trần Thị Hà',\n",
       "  'HP 1': 9.25,\n",
       "  'HP 2': 8.29,\n",
       "  'HP 3': 9.1},\n",
       " {'id': 29,\n",
       "  'Tên sinh viên': 'Lê Văn Tuấn',\n",
       "  'HP 1': 6.08,\n",
       "  'HP 2': 2.67,\n",
       "  'HP 3': 6.39},\n",
       " {'id': 30,\n",
       "  'Tên sinh viên': 'Phạm Thị Phúc',\n",
       "  'HP 1': 3.85,\n",
       "  'HP 2': 7.71,\n",
       "  'HP 3': 5.75}]"
      ]
     },
     "execution_count": 28,
     "metadata": {},
     "output_type": "execute_result"
    }
   ],
   "source": [
    "path = r'C:/Users/DELL/Documents/lesson1 Data science/Nguyen_Manh_Cuong_23174600007_DHKL17A1HN/DHKL17A1HN/Lab02/data/diem_hoc_phan.csv'\n",
    "with open(path,'r',encoding='utf-8-sig') as file:\n",
    "    read = csv.reader(file)\n",
    "    \n",
    "    head = next(read)\n",
    "    data = list(read)\n",
    "\n",
    "    for i,row in enumerate(data):\n",
    "        for j,value in enumerate(row):\n",
    "            value_str = str(value)\n",
    "            if j==0:\n",
    "                data[i][j] = int(value_str)\n",
    "            elif '.' in value_str:\n",
    "                data[i][j] = float(value_str)\n",
    "data_1 = []\n",
    "for row in data:\n",
    "    data_1.append(dict(zip(head,row)))\n",
    "data_1\n",
    "            \n",
    "    "
   ]
  },
  {
   "cell_type": "code",
   "execution_count": 35,
   "metadata": {},
   "outputs": [
    {
     "data": {
      "text/plain": [
       "array([{'id': 1, 'Tên sinh viên': 'Nguyễn Văn Bình', 'HP 1': 3.04, 'HP 2': 3.39, 'HP 3': 6.7},\n",
       "       {'id': 2, 'Tên sinh viên': 'Lê Thị Na', 'HP 1': 5.8, 'HP 2': 6.41, 'HP 3': 6.62},\n",
       "       {'id': 3, 'Tên sinh viên': 'Trần Văn Thành', 'HP 1': 2.59, 'HP 2': 3.57, 'HP 3': 9.16},\n",
       "       {'id': 4, 'Tên sinh viên': 'Phạm Thị Hồng', 'HP 1': 3.81, 'HP 2': 8.78, 'HP 3': 9.24},\n",
       "       {'id': 5, 'Tên sinh viên': 'Bùi Văn An', 'HP 1': 8.91, 'HP 2': 9.64, 'HP 3': 6.39},\n",
       "       {'id': 6, 'Tên sinh viên': 'Hoàng Thị Lan', 'HP 1': 3.23, 'HP 2': 4.72, 'HP 3': 6.17},\n",
       "       {'id': 7, 'Tên sinh viên': 'Vũ Văn Hùng', 'HP 1': 2.35, 'HP 2': 3.29, 'HP 3': 6.89},\n",
       "       {'id': 8, 'Tên sinh viên': 'Đặng Thị Mai', 'HP 1': 2.48, 'HP 2': 3.81, 'HP 3': 4.84},\n",
       "       {'id': 9, 'Tên sinh viên': 'Đỗ Văn Hải', 'HP 1': 3.23, 'HP 2': 2.61, 'HP 3': 4.52},\n",
       "       {'id': 10, 'Tên sinh viên': 'Ngô Thị Thanh', 'HP 1': 7.02, 'HP 2': 9.01, 'HP 3': 9.15},\n",
       "       {'id': 11, 'Tên sinh viên': 'Lương Văn Dũng', 'HP 1': 2.29, 'HP 2': 4.48, 'HP 3': 5.51},\n",
       "       {'id': 12, 'Tên sinh viên': 'Mai Thị Hằng', 'HP 1': 3.51, 'HP 2': 7.19, 'HP 3': 5.13},\n",
       "       {'id': 13, 'Tên sinh viên': 'Dương Văn Long', 'HP 1': 6.74, 'HP 2': 7.78, 'HP 3': 6.19},\n",
       "       {'id': 14, 'Tên sinh viên': 'Nguyễn Thị Hà', 'HP 1': 9.86, 'HP 2': 4.64, 'HP 3': 3.33},\n",
       "       {'id': 15, 'Tên sinh viên': 'Trần Văn Tuấn', 'HP 1': 8.04, 'HP 2': 5.12, 'HP 3': 4.77},\n",
       "       {'id': 16, 'Tên sinh viên': 'Lê Văn Phúc', 'HP 1': 2.74, 'HP 2': 8.88, 'HP 3': 5.8},\n",
       "       {'id': 17, 'Tên sinh viên': 'Phạm Thị Nhung', 'HP 1': 3.04, 'HP 2': 6.88, 'HP 3': 3.91},\n",
       "       {'id': 18, 'Tên sinh viên': 'Hoàng Văn Nam', 'HP 1': 5.87, 'HP 2': 4.41, 'HP 3': 8.84},\n",
       "       {'id': 19, 'Tên sinh viên': 'Bùi Thị Lan', 'HP 1': 8.46, 'HP 2': 2.63, 'HP 3': 4.91},\n",
       "       {'id': 20, 'Tên sinh viên': 'Vũ Thị Thanh', 'HP 1': 3.74, 'HP 2': 6.71, 'HP 3': 3.44},\n",
       "       {'id': 21, 'Tên sinh viên': 'Đặng Văn Hùng', 'HP 1': 5.67, 'HP 2': 8.05, 'HP 3': 6.03},\n",
       "       {'id': 22, 'Tên sinh viên': 'Đỗ Thị Hồng', 'HP 1': 8.12, 'HP 2': 2.46, 'HP 3': 3.87},\n",
       "       {'id': 23, 'Tên sinh viên': 'Ngô Văn Thành', 'HP 1': 9.4, 'HP 2': 5.31, 'HP 3': 5.13},\n",
       "       {'id': 24, 'Tên sinh viên': 'Lương Thị Mai', 'HP 1': 3.91, 'HP 2': 5.09, 'HP 3': 8.82},\n",
       "       {'id': 25, 'Tên sinh viên': 'Mai Văn Dũng', 'HP 1': 4.26, 'HP 2': 5.78, 'HP 3': 8.14},\n",
       "       {'id': 26, 'Tên sinh viên': 'Dương Thị Hằng', 'HP 1': 4.41, 'HP 2': 2.66, 'HP 3': 5.4},\n",
       "       {'id': 27, 'Tên sinh viên': 'Nguyễn Văn Long', 'HP 1': 3.23, 'HP 2': 8.3, 'HP 3': 8.64},\n",
       "       {'id': 28, 'Tên sinh viên': 'Trần Thị Hà', 'HP 1': 9.25, 'HP 2': 8.29, 'HP 3': 9.1},\n",
       "       {'id': 29, 'Tên sinh viên': 'Lê Văn Tuấn', 'HP 1': 6.08, 'HP 2': 2.67, 'HP 3': 6.39},\n",
       "       {'id': 30, 'Tên sinh viên': 'Phạm Thị Phúc', 'HP 1': 3.85, 'HP 2': 7.71, 'HP 3': 5.75}],\n",
       "      dtype=object)"
      ]
     },
     "execution_count": 35,
     "metadata": {},
     "output_type": "execute_result"
    }
   ],
   "source": [
    "mang_numpy = np.array(data_1,dtype=object)\n",
    "mang_numpy"
   ]
  },
  {
   "cell_type": "markdown",
   "metadata": {},
   "source": [
    "1.Quy đổi từ thang điểm 10 sang điểm tín chỉ"
   ]
  },
  {
   "cell_type": "code",
   "execution_count": 26,
   "metadata": {},
   "outputs": [
    {
     "name": "stdout",
     "output_type": "stream",
     "text": [
      "{'id': 1, 'Tên sinh viên': 'Nguyễn Văn Bình', 'HP 1': 'F', 'HP 2': 'F', 'HP 3': 'C+'}\n",
      "{'id': 2, 'Tên sinh viên': 'Lê Thị Na', 'HP 1': 'C', 'HP 2': 'C', 'HP 3': 'C+'}\n",
      "{'id': 3, 'Tên sinh viên': 'Trần Văn Thành', 'HP 1': 'F', 'HP 2': 'F', 'HP 3': 'A'}\n",
      "{'id': 4, 'Tên sinh viên': 'Phạm Thị Hồng', 'HP 1': 'F', 'HP 2': 'A', 'HP 3': 'A'}\n",
      "{'id': 5, 'Tên sinh viên': 'Bùi Văn An', 'HP 1': 'A', 'HP 2': 'A', 'HP 3': 'C'}\n",
      "{'id': 6, 'Tên sinh viên': 'Hoàng Thị Lan', 'HP 1': 'F', 'HP 2': 'D', 'HP 3': 'C'}\n",
      "{'id': 7, 'Tên sinh viên': 'Vũ Văn Hùng', 'HP 1': 'F', 'HP 2': 'F', 'HP 3': 'C+'}\n",
      "{'id': 8, 'Tên sinh viên': 'Đặng Thị Mai', 'HP 1': 'F', 'HP 2': 'F', 'HP 3': 'D'}\n",
      "{'id': 9, 'Tên sinh viên': 'Đỗ Văn Hải', 'HP 1': 'F', 'HP 2': 'F', 'HP 3': 'D'}\n",
      "{'id': 10, 'Tên sinh viên': 'Ngô Thị Thanh', 'HP 1': 'B', 'HP 2': 'A', 'HP 3': 'A'}\n",
      "{'id': 11, 'Tên sinh viên': 'Lương Văn Dũng', 'HP 1': 'F', 'HP 2': 'D', 'HP 3': 'C'}\n",
      "{'id': 12, 'Tên sinh viên': 'Mai Thị Hằng', 'HP 1': 'F', 'HP 2': 'B', 'HP 3': 'D+'}\n",
      "{'id': 13, 'Tên sinh viên': 'Dương Văn Long', 'HP 1': 'C+', 'HP 2': 'B', 'HP 3': 'C'}\n",
      "{'id': 14, 'Tên sinh viên': 'Nguyễn Thị Hà', 'HP 1': 'A', 'HP 2': 'D', 'HP 3': 'F'}\n",
      "{'id': 15, 'Tên sinh viên': 'Trần Văn Tuấn', 'HP 1': 'B+', 'HP 2': 'D+', 'HP 3': 'D'}\n",
      "{'id': 16, 'Tên sinh viên': 'Lê Văn Phúc', 'HP 1': 'F', 'HP 2': 'A', 'HP 3': 'C'}\n",
      "{'id': 17, 'Tên sinh viên': 'Phạm Thị Nhung', 'HP 1': 'F', 'HP 2': 'C+', 'HP 3': 'F'}\n",
      "{'id': 18, 'Tên sinh viên': 'Hoàng Văn Nam', 'HP 1': 'C', 'HP 2': 'D', 'HP 3': 'A'}\n",
      "{'id': 19, 'Tên sinh viên': 'Bùi Thị Lan', 'HP 1': 'B+', 'HP 2': 'F', 'HP 3': 'D'}\n",
      "{'id': 20, 'Tên sinh viên': 'Vũ Thị Thanh', 'HP 1': 'F', 'HP 2': 'C+', 'HP 3': 'F'}\n",
      "{'id': 21, 'Tên sinh viên': 'Đặng Văn Hùng', 'HP 1': 'C', 'HP 2': 'B+', 'HP 3': 'C'}\n",
      "{'id': 22, 'Tên sinh viên': 'Đỗ Thị Hồng', 'HP 1': 'B+', 'HP 2': 'F', 'HP 3': 'F'}\n",
      "{'id': 23, 'Tên sinh viên': 'Ngô Văn Thành', 'HP 1': 'A', 'HP 2': 'D+', 'HP 3': 'D+'}\n",
      "{'id': 24, 'Tên sinh viên': 'Lương Thị Mai', 'HP 1': 'F', 'HP 2': 'D+', 'HP 3': 'A'}\n",
      "{'id': 25, 'Tên sinh viên': 'Mai Văn Dũng', 'HP 1': 'D', 'HP 2': 'C', 'HP 3': 'B+'}\n",
      "{'id': 26, 'Tên sinh viên': 'Dương Thị Hằng', 'HP 1': 'D', 'HP 2': 'F', 'HP 3': 'D+'}\n",
      "{'id': 27, 'Tên sinh viên': 'Nguyễn Văn Long', 'HP 1': 'F', 'HP 2': 'B+', 'HP 3': 'A'}\n",
      "{'id': 28, 'Tên sinh viên': 'Trần Thị Hà', 'HP 1': 'A', 'HP 2': 'B+', 'HP 3': 'A'}\n",
      "{'id': 29, 'Tên sinh viên': 'Lê Văn Tuấn', 'HP 1': 'C', 'HP 2': 'F', 'HP 3': 'C'}\n",
      "{'id': 30, 'Tên sinh viên': 'Phạm Thị Phúc', 'HP 1': 'F', 'HP 2': 'B', 'HP 3': 'C'}\n"
     ]
    }
   ],
   "source": [
    "def change_point(diem):\n",
    "    try:\n",
    "        diem = float(diem)\n",
    "    except ValueError:\n",
    "        return 'Invalid'\n",
    "    if 8.5 <= diem <= 10:\n",
    "        return 'A'\n",
    "    elif 8.0 <= diem < 8.5:\n",
    "        return 'B+'\n",
    "    elif 7.0 <= diem < 8.0:\n",
    "        return 'B'\n",
    "    elif 6.5 <= diem < 7.0:\n",
    "        return 'C+'\n",
    "    elif 5.5 <= diem < 6.5:\n",
    "        return 'C'\n",
    "    elif 5.0 <= diem < 5.5:\n",
    "        return 'D+'\n",
    "    elif 4.0 <= diem < 5.0:\n",
    "        return 'D'\n",
    "    else:\n",
    "        return 'F'\n",
    "    \n",
    "for student in mang_numpy:\n",
    "    student['HP 1'] = change_point(student['HP 1'])\n",
    "    student['HP 2'] = change_point(student['HP 2'])\n",
    "    student['HP 3'] = change_point(student['HP 3'])\n",
    "    \n",
    "for student in mang_numpy:\n",
    "    print(student)"
   ]
  },
  {
   "cell_type": "markdown",
   "metadata": {},
   "source": [
    "3. Chia tách dữ liệu theo học phần để phân tích.\n",
    "Chia tách dữ liệu để phân tích theo điểm số của mỗi học phần riêng biệt \n"
   ]
  },
  {
   "cell_type": "code",
   "execution_count": 43,
   "metadata": {},
   "outputs": [],
   "source": [
    "score_HP1 = []\n",
    "score_HP2 = []\n",
    "score_HP3 = []\n",
    "for student in mang_numpy:\n",
    "    score_HP1.append(student['HP 1'])\n",
    "    score_HP2.append(student['HP 2'])\n",
    "    score_HP3.append(student['HP 3'])\n"
   ]
  },
  {
   "cell_type": "markdown",
   "metadata": {},
   "source": [
    "phân tích điểm số từng phần"
   ]
  },
  {
   "cell_type": "code",
   "execution_count": 33,
   "metadata": {},
   "outputs": [
    {
     "name": "stdout",
     "output_type": "stream",
     "text": [
      "Trung bình:5.1643333333333326,Độ lệch chuẩn:2.4078519934211533,Min:2.29,max:9.86\n",
      "Trung bình:5.675666666666667,Độ lệch chuẩn:2.2494765070023637,Min:2.29,max:9.64\n",
      "Trung bình:6.292666666666666,Độ lệch chuẩn:1.8082292135923723,Min:3.33,max:9.24\n"
     ]
    }
   ],
   "source": [
    "def anaylize_score(score):\n",
    "    avg = np.mean(score)\n",
    "    std = np.std(score)\n",
    "    min = np.min(score)\n",
    "    max = np.max(score)\n",
    "    return avg,std,min,max\n",
    "hp1 = anaylize_score(score_HP1)\n",
    "hp2 = anaylize_score(score_HP2)\n",
    "hp3 = anaylize_score(score_HP3)\n",
    "print(f\"Trung bình:{hp1[0]},Độ lệch chuẩn:{hp1[1]},Min:{hp1[2]},max:{hp1[3]}\")\n",
    "print(f\"Trung bình:{hp2[0]},Độ lệch chuẩn:{hp2[1]},Min:{hp1[2]},max:{hp2[3]}\")\n",
    "print(f\"Trung bình:{hp3[0]},Độ lệch chuẩn:{hp3[1]},Min:{hp3[2]},max:{hp3[3]}\")\n"
   ]
  },
  {
   "cell_type": "markdown",
   "metadata": {},
   "source": [
    "5.Tính toán số lượng sinh viên từng đạt A,B+,... trên tổng học phần"
   ]
  },
  {
   "cell_type": "code",
   "execution_count": 45,
   "metadata": {},
   "outputs": [
    {
     "name": "stdout",
     "output_type": "stream",
     "text": [
      "Tổng số học phần: 90\n",
      "Số sinh viên đạt A: 15 (16.67%)\n",
      "Số sinh viên đạt B+: 7 (7.78%)\n",
      "Số sinh viên đạt B: 4 (4.44%)\n",
      "Số sinh viên đạt C+: 6 (6.67%)\n",
      "Số sinh viên đạt C: 14 (15.56%)\n",
      "Số sinh viên đạt D+: 6 (6.67%)\n",
      "Số sinh viên đạt D: 10 (11.11%)\n",
      "Số sinh viên đạt F: 28 (31.11%)\n"
     ]
    }
   ],
   "source": [
    "\n",
    "grade_count = {'A':0,'B+':0,'B':0,'C+':0,'C':0,'D+':0,'D':0,'F':0}\n",
    "for score in score_HP1+score_HP2+score_HP3:\n",
    "    grade = change_point(score)\n",
    "    grade_count[grade]+=1\n",
    "        \n",
    "        \n",
    "\n",
    "# In kết quả phân tích\n",
    "total_courses = len(score_HP1)+len(score_HP2)+len(score_HP3)\n",
    "print(f\"Tổng số học phần: {total_courses}\")\n",
    "for grade,count in grade_count.items():\n",
    "    print(f\"Số sinh viên đạt {grade}: {count} ({(count / total_courses) * 100:.2f}%)\")\n",
    "\n",
    "        "
   ]
  }
 ],
 "metadata": {
  "kernelspec": {
   "display_name": "Python 3",
   "language": "python",
   "name": "python3"
  },
  "language_info": {
   "codemirror_mode": {
    "name": "ipython",
    "version": 3
   },
   "file_extension": ".py",
   "mimetype": "text/x-python",
   "name": "python",
   "nbconvert_exporter": "python",
   "pygments_lexer": "ipython3",
   "version": "3.9.6"
  }
 },
 "nbformat": 4,
 "nbformat_minor": 2
}
