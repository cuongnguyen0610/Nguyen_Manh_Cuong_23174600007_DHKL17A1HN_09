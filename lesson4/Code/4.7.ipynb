{
 "cells": [
  {
   "cell_type": "code",
   "execution_count": 2,
   "metadata": {},
   "outputs": [],
   "source": [
    "import numpy as np\n",
    "import pandas as pd"
   ]
  },
  {
   "cell_type": "code",
   "execution_count": 3,
   "metadata": {},
   "outputs": [
    {
     "data": {
      "text/plain": [
       "RandomState(MT19937) at 0x1FFF5BD5540"
      ]
     },
     "execution_count": 3,
     "metadata": {},
     "output_type": "execute_result"
    }
   ],
   "source": [
    "np.random.RandomState(100)"
   ]
  },
  {
   "cell_type": "code",
   "execution_count": 4,
   "metadata": {},
   "outputs": [
    {
     "data": {
      "text/plain": [
       "0     1\n",
       "1     4\n",
       "2     1\n",
       "3     1\n",
       "4     2\n",
       "5     4\n",
       "6     2\n",
       "7     3\n",
       "8     2\n",
       "9     1\n",
       "10    4\n",
       "11    2\n",
       "dtype: int32"
      ]
     },
     "execution_count": 4,
     "metadata": {},
     "output_type": "execute_result"
    }
   ],
   "source": [
    "ser = pd.Series(np.random.randint(1,5,[12]))\n",
    "ser"
   ]
  },
  {
   "cell_type": "code",
   "execution_count": 5,
   "metadata": {},
   "outputs": [
    {
     "name": "stdout",
     "output_type": "stream",
     "text": [
      "0         1\n",
      "1     Other\n",
      "2         1\n",
      "3         1\n",
      "4         2\n",
      "5     Other\n",
      "6         2\n",
      "7     Other\n",
      "8         2\n",
      "9         1\n",
      "10    Other\n",
      "11        2\n",
      "dtype: object\n"
     ]
    }
   ],
   "source": [
    "# Tính tần suất của các giá trị\n",
    "value_counts = ser.value_counts()\n",
    "\n",
    "# Lấy 2 giá trị có tần suất cao nhất\n",
    "top_2 = value_counts.head(2).index\n",
    "\n",
    "# Thay thế các phần tử không phải là top 2 bằng 'Other'\n",
    "ser_modified = ser.apply(lambda x: x if x in top_2 else 'Other')\n",
    "\n",
    "print(ser_modified)"
   ]
  },
  {
   "cell_type": "markdown",
   "metadata": {},
   "source": [
    "Giải thích\n",
    "Giải thích:\n",
    "value_counts(): Đếm tần suất các giá trị trong ser và sắp xếp theo thứ tự giảm dần.\n",
    "head(2): Lấy 2 giá trị có tần suất cao nhất.\n",
    "apply(lambda x: ...): Duyệt qua từng phần tử trong ser và thay thế các phần tử không nằm trong top_2 bằng 'Other'."
   ]
  }
 ],
 "metadata": {
  "kernelspec": {
   "display_name": "Python 3",
   "language": "python",
   "name": "python3"
  },
  "language_info": {
   "codemirror_mode": {
    "name": "ipython",
    "version": 3
   },
   "file_extension": ".py",
   "mimetype": "text/x-python",
   "name": "python",
   "nbconvert_exporter": "python",
   "pygments_lexer": "ipython3",
   "version": "3.9.6"
  }
 },
 "nbformat": 4,
 "nbformat_minor": 2
}
