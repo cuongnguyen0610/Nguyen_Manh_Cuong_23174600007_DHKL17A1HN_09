{
 "cells": [
  {
   "cell_type": "code",
   "execution_count": 2,
   "metadata": {},
   "outputs": [],
   "source": [
    "import pandas as pd\n",
    "import numpy as np"
   ]
  },
  {
   "cell_type": "code",
   "execution_count": 5,
   "metadata": {},
   "outputs": [
    {
     "data": {
      "text/plain": [
       "0     0.918216\n",
       "1     0.945780\n",
       "2     0.024794\n",
       "3     0.739378\n",
       "4     0.206532\n",
       "5     0.725772\n",
       "6     0.942553\n",
       "7     0.230179\n",
       "8     0.766820\n",
       "9     0.080467\n",
       "10    0.009762\n",
       "11    0.276783\n",
       "12    0.353919\n",
       "13    0.502776\n",
       "14    0.777094\n",
       "15    0.017542\n",
       "16    0.313563\n",
       "17    0.333663\n",
       "18    0.004689\n",
       "19    0.045452\n",
       "dtype: float64"
      ]
     },
     "execution_count": 5,
     "metadata": {},
     "output_type": "execute_result"
    }
   ],
   "source": [
    "ser = pd.Series(np.random.random(20))\n",
    "ser"
   ]
  },
  {
   "cell_type": "code",
   "execution_count": 8,
   "metadata": {},
   "outputs": [
    {
     "data": {
      "text/plain": [
       "0      Deciles:6\n",
       "1     Deciles:10\n",
       "2      Deciles:1\n",
       "3      Deciles:2\n",
       "4      Deciles:4\n",
       "5      Deciles:3\n",
       "6     Deciles:10\n",
       "7      Deciles:4\n",
       "8      Deciles:2\n",
       "9      Deciles:5\n",
       "10     Deciles:8\n",
       "11     Deciles:7\n",
       "12     Deciles:9\n",
       "13     Deciles:3\n",
       "14     Deciles:6\n",
       "15     Deciles:1\n",
       "16     Deciles:7\n",
       "17     Deciles:9\n",
       "18     Deciles:8\n",
       "19     Deciles:5\n",
       "dtype: category\n",
       "Categories (10, object): ['Deciles:8' < 'Deciles:1' < 'Deciles:5' < 'Deciles:4' ... 'Deciles:3' < 'Deciles:2' < 'Deciles:6' < 'Deciles:10']"
      ]
     },
     "execution_count": 8,
     "metadata": {},
     "output_type": "execute_result"
    }
   ],
   "source": [
    "result = pd.qcut(ser,10,labels={f'Deciles:{i+1}' for i in range(10)})\n",
    "a = result\n",
    "a"
   ]
  }
 ],
 "metadata": {
  "kernelspec": {
   "display_name": "Python 3",
   "language": "python",
   "name": "python3"
  },
  "language_info": {
   "codemirror_mode": {
    "name": "ipython",
    "version": 3
   },
   "file_extension": ".py",
   "mimetype": "text/x-python",
   "name": "python",
   "nbconvert_exporter": "python",
   "pygments_lexer": "ipython3",
   "version": "3.9.6"
  }
 },
 "nbformat": 4,
 "nbformat_minor": 2
}
