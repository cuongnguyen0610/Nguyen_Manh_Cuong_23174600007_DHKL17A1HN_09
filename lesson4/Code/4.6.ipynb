{
 "cells": [
  {
   "cell_type": "code",
   "execution_count": 2,
   "metadata": {},
   "outputs": [],
   "source": [
    "import numpy as np\n",
    "import pandas as pd"
   ]
  },
  {
   "cell_type": "code",
   "execution_count": 11,
   "metadata": {},
   "outputs": [
    {
     "data": {
      "text/plain": [
       "0     c\n",
       "1     a\n",
       "2     b\n",
       "3     h\n",
       "4     b\n",
       "5     e\n",
       "6     g\n",
       "7     f\n",
       "8     b\n",
       "9     h\n",
       "10    e\n",
       "11    e\n",
       "12    c\n",
       "13    b\n",
       "14    d\n",
       "15    b\n",
       "16    h\n",
       "17    a\n",
       "18    g\n",
       "19    g\n",
       "20    e\n",
       "21    d\n",
       "22    b\n",
       "23    c\n",
       "24    c\n",
       "25    a\n",
       "26    d\n",
       "27    g\n",
       "28    d\n",
       "29    h\n",
       "dtype: object"
      ]
     },
     "execution_count": 11,
     "metadata": {},
     "output_type": "execute_result"
    }
   ],
   "source": [
    "ser = pd.Series(np.take(list('abcdefgh'),np.random.randint(8,size=30)))\n",
    "ser"
   ]
  },
  {
   "cell_type": "markdown",
   "metadata": {},
   "source": [
    "Giải thích đoạn mã:\n",
    "list('abcdefgh') là tạo 1 danh sách các phần tử từ a đến h\n",
    "np.random.randint(8,size=30) là tạo một danh sách ngẫu nhiên gồm 30 phần tử\n",
    "np.take(list('abcdefgh'), np.random.randint(8, size=30))\n",
    "np.take() lấy các phần tử của một danh sách dựa trên chỉ số được chỉ định"
   ]
  },
  {
   "cell_type": "markdown",
   "metadata": {},
   "source": [
    "kết quả là pd.Series là với 30 phần tử là các kí tự ngẫu nhiên được chọn từ danh sách với các chỉ số random tương ứng"
   ]
  },
  {
   "cell_type": "code",
   "execution_count": 6,
   "metadata": {},
   "outputs": [
    {
     "data": {
      "text/plain": [
       "b    10\n",
       "g     6\n",
       "e     5\n",
       "c     3\n",
       "h     2\n",
       "a     2\n",
       "d     2\n",
       "Name: count, dtype: int64"
      ]
     },
     "execution_count": 6,
     "metadata": {},
     "output_type": "execute_result"
    }
   ],
   "source": [
    "value_ser = ser.value_counts()\n",
    "value_ser"
   ]
  },
  {
   "cell_type": "code",
   "execution_count": null,
   "metadata": {},
   "outputs": [],
   "source": []
  },
  {
   "cell_type": "code",
   "execution_count": 8,
   "metadata": {},
   "outputs": [],
   "source": [
    "import numpy as np \n",
    "import pandas as pd"
   ]
  },
  {
   "cell_type": "code",
   "execution_count": 9,
   "metadata": {},
   "outputs": [
    {
     "data": {
      "text/plain": [
       "RandomState(MT19937) at 0x211473B3C40"
      ]
     },
     "execution_count": 9,
     "metadata": {},
     "output_type": "execute_result"
    }
   ],
   "source": [
    "np.random.RandomState(100)"
   ]
  }
 ],
 "metadata": {
  "kernelspec": {
   "display_name": "Python 3",
   "language": "python",
   "name": "python3"
  },
  "language_info": {
   "codemirror_mode": {
    "name": "ipython",
    "version": 3
   },
   "file_extension": ".py",
   "mimetype": "text/x-python",
   "name": "python",
   "nbconvert_exporter": "python",
   "pygments_lexer": "ipython3",
   "version": "3.9.6"
  }
 },
 "nbformat": 4,
 "nbformat_minor": 2
}
