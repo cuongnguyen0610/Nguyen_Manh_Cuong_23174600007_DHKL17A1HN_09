{
 "cells": [
  {
   "cell_type": "markdown",
   "metadata": {},
   "source": [
    "1. Đọc file txt"
   ]
  },
  {
   "cell_type": "code",
   "execution_count": 3,
   "metadata": {},
   "outputs": [
    {
     "data": {
      "text/plain": [
       "[94.0,\n",
       " 97.0,\n",
       " 114.0,\n",
       " 117.0,\n",
       " 117.0,\n",
       " 59.0,\n",
       " 133.0,\n",
       " 71.0,\n",
       " 86.0,\n",
       " 137.0,\n",
       " 120.0,\n",
       " 138.0,\n",
       " 138.0,\n",
       " 62.0,\n",
       " 108.0,\n",
       " 115.0,\n",
       " 89.0,\n",
       " 137.0,\n",
       " 96.0,\n",
       " 138.0,\n",
       " 131.0,\n",
       " 87.0,\n",
       " 75.0,\n",
       " 127.0,\n",
       " 122.0,\n",
       " 59.0,\n",
       " 70.0,\n",
       " 130.0,\n",
       " 119.0,\n",
       " 129.0,\n",
       " 97.0,\n",
       " 114.0,\n",
       " 132.0,\n",
       " 149.0,\n",
       " 138.0,\n",
       " 99.0,\n",
       " 79.0,\n",
       " 69.0,\n",
       " 69.0,\n",
       " 64.0,\n",
       " 89.0,\n",
       " 82.0,\n",
       " 115.0,\n",
       " 59.0,\n",
       " 107.0,\n",
       " 82.0,\n",
       " 81.0,\n",
       " 124.0,\n",
       " 73.0,\n",
       " 85.0,\n",
       " 125.0,\n",
       " 105.0,\n",
       " 78.0,\n",
       " 84.0,\n",
       " 50.0,\n",
       " 50.0,\n",
       " 86.0,\n",
       " 103.0,\n",
       " 55.0,\n",
       " 88.0,\n",
       " 67.0,\n",
       " 129.0,\n",
       " 54.0,\n",
       " 92.0,\n",
       " 108.0,\n",
       " 81.0,\n",
       " 51.0,\n",
       " 115.0,\n",
       " 91.0,\n",
       " 107.0,\n",
       " 85.0,\n",
       " 61.0,\n",
       " 96.0,\n",
       " 132.0,\n",
       " 141.0,\n",
       " 50.0,\n",
       " 64.0,\n",
       " 149.0,\n",
       " 103.0,\n",
       " 62.0,\n",
       " 92.0,\n",
       " 134.0,\n",
       " 125.0,\n",
       " 118.0,\n",
       " 56.0,\n",
       " 118.0,\n",
       " 97.0,\n",
       " 53.0,\n",
       " 126.0,\n",
       " 102.0,\n",
       " 128.0,\n",
       " 65.0,\n",
       " 70.0,\n",
       " 149.0,\n",
       " 108.0,\n",
       " 73.0,\n",
       " 129.0,\n",
       " 63.0,\n",
       " 135.0,\n",
       " 98.0]"
      ]
     },
     "execution_count": 3,
     "metadata": {},
     "output_type": "execute_result"
    }
   ],
   "source": [
    "import numpy as np\n",
    "path_1 = r'C:/Users/Admin/Documents/lesson1 Data science/Nguyen_Manh_Cuong_23174600007_DHKL17A1HN/DHKL17A1HN/Lab02/data/efficiency.txt'\n",
    "path_2 = r'C:/Users/Admin/Documents/lesson1 Data science/Nguyen_Manh_Cuong_23174600007_DHKL17A1HN/DHKL17A1HN/Lab02/data/shifts.txt'\n",
    "with open(path_1,'r',encoding='utf-8') as file:\n",
    "    reads = file.readlines()\n",
    "    data_1 = []\n",
    "    for read in reads:\n",
    "        read = read.strip()\n",
    "        items = read.split(',')\n",
    "        for item in items:\n",
    "            try:\n",
    "                data_1.append(float(item))\n",
    "            except ValueError as e:\n",
    "                print(f\"Không thể chuyển đổi sang float\")\n",
    "data_1   "
   ]
  },
  {
   "cell_type": "code",
   "execution_count": 6,
   "metadata": {},
   "outputs": [
    {
     "data": {
      "text/plain": [
       "['Afternoon',\n",
       " 'Afternoon',\n",
       " 'Afternoon',\n",
       " 'Morning',\n",
       " 'Afternoon',\n",
       " 'Night',\n",
       " 'Morning',\n",
       " 'Afternoon',\n",
       " 'Night',\n",
       " 'Morning',\n",
       " 'Night',\n",
       " 'Morning',\n",
       " 'Afternoon',\n",
       " 'Night',\n",
       " 'Night',\n",
       " 'Afternoon',\n",
       " 'Morning',\n",
       " 'Afternoon',\n",
       " 'Afternoon',\n",
       " 'Morning',\n",
       " 'Night',\n",
       " 'Night',\n",
       " 'Night',\n",
       " 'Night',\n",
       " 'Afternoon',\n",
       " 'Night',\n",
       " 'Night',\n",
       " 'Night',\n",
       " 'Night',\n",
       " 'Night',\n",
       " 'Morning',\n",
       " 'Afternoon',\n",
       " 'Night',\n",
       " 'Night',\n",
       " 'Afternoon',\n",
       " 'Night',\n",
       " 'Afternoon',\n",
       " 'Morning',\n",
       " 'Night',\n",
       " 'Night',\n",
       " 'Morning',\n",
       " 'Night',\n",
       " 'Morning',\n",
       " 'Morning',\n",
       " 'Night',\n",
       " 'Morning',\n",
       " 'Night',\n",
       " 'Night',\n",
       " 'Night',\n",
       " 'Morning',\n",
       " 'Morning',\n",
       " 'Morning',\n",
       " 'Afternoon',\n",
       " 'Night',\n",
       " 'Morning',\n",
       " 'Afternoon',\n",
       " 'Night',\n",
       " 'Night',\n",
       " 'Night',\n",
       " 'Afternoon',\n",
       " 'Morning',\n",
       " 'Morning',\n",
       " 'Morning',\n",
       " 'Morning',\n",
       " 'Night',\n",
       " 'Night',\n",
       " 'Morning',\n",
       " 'Morning',\n",
       " 'Morning',\n",
       " 'Afternoon',\n",
       " 'Night',\n",
       " 'Morning',\n",
       " 'Morning',\n",
       " 'Afternoon',\n",
       " 'Morning',\n",
       " 'Night',\n",
       " 'Afternoon',\n",
       " 'Afternoon',\n",
       " 'Afternoon',\n",
       " 'Morning',\n",
       " 'Morning',\n",
       " 'Morning',\n",
       " 'Afternoon',\n",
       " 'Afternoon',\n",
       " 'Night',\n",
       " 'Afternoon',\n",
       " 'Morning',\n",
       " 'Morning',\n",
       " 'Afternoon',\n",
       " 'Night',\n",
       " 'Afternoon',\n",
       " 'Afternoon',\n",
       " 'Afternoon',\n",
       " 'Morning',\n",
       " 'Morning',\n",
       " 'Morning',\n",
       " 'Afternoon',\n",
       " 'Night',\n",
       " 'Afternoon',\n",
       " 'Afternoon']"
      ]
     },
     "execution_count": 6,
     "metadata": {},
     "output_type": "execute_result"
    }
   ],
   "source": [
    "with open(path_2,'r',encoding='utf-8') as file:\n",
    "    reads = file.readlines()\n",
    "    data_2 = []\n",
    "    for read in reads:\n",
    "        read = read.strip()\n",
    "        items = read.split(',')\n",
    "        for item in items:\n",
    "            try:\n",
    "                data_2.append(str(item))\n",
    "            except ValueError as e:\n",
    "                print(\"Không thể chuyển đổi sang str\")\n",
    "data_2"
   ]
  },
  {
   "cell_type": "markdown",
   "metadata": {},
   "source": [
    "2. Tạo numpy array với np_efficiency và kiểm tra dữ liệu của nó"
   ]
  },
  {
   "cell_type": "code",
   "execution_count": 3,
   "metadata": {},
   "outputs": [
    {
     "data": {
      "text/plain": [
       "array([ 94,  97, 114, 117, 117,  59, 133,  71,  86, 137, 120, 138, 138,\n",
       "        62, 108, 115,  89, 137,  96, 138, 131,  87,  75, 127, 122,  59,\n",
       "        70, 130, 119, 129,  97, 114, 132, 149, 138,  99,  79,  69,  69,\n",
       "        64,  89,  82, 115,  59, 107,  82,  81, 124,  73,  85, 125, 105,\n",
       "        78,  84,  50,  50,  86, 103,  55,  88,  67, 129,  54,  92, 108,\n",
       "        81,  51, 115,  91, 107,  85,  61,  96, 132, 141,  50,  64, 149,\n",
       "       103,  62,  92, 134, 125, 118,  56, 118,  97,  53, 126, 102, 128,\n",
       "        65,  70, 149, 108,  73, 129,  63, 135,  98])"
      ]
     },
     "execution_count": 3,
     "metadata": {},
     "output_type": "execute_result"
    }
   ],
   "source": [
    "np_efficiency = np.array(data_1,dtype=int)\n",
    "np_efficiency"
   ]
  },
  {
   "cell_type": "code",
   "execution_count": 4,
   "metadata": {},
   "outputs": [
    {
     "data": {
      "text/plain": [
       "numpy.ndarray"
      ]
     },
     "execution_count": 4,
     "metadata": {},
     "output_type": "execute_result"
    }
   ],
   "source": [
    "type(np_efficiency)"
   ]
  },
  {
   "cell_type": "markdown",
   "metadata": {},
   "source": [
    "3.Tạo numpy array với np_shifts và kiểm tra dữ liệu của nso"
   ]
  },
  {
   "cell_type": "code",
   "execution_count": 5,
   "metadata": {},
   "outputs": [
    {
     "data": {
      "text/plain": [
       "array(['Afternoon', 'Afternoon', 'Afternoon', 'Morning', 'Afternoon',\n",
       "       'Night', 'Morning', 'Afternoon', 'Night', 'Morning', 'Night',\n",
       "       'Morning', 'Afternoon', 'Night', 'Night', 'Afternoon', 'Morning',\n",
       "       'Afternoon', 'Afternoon', 'Morning', 'Night', 'Night', 'Night',\n",
       "       'Night', 'Afternoon', 'Night', 'Night', 'Night', 'Night', 'Night',\n",
       "       'Morning', 'Afternoon', 'Night', 'Night', 'Afternoon', 'Night',\n",
       "       'Afternoon', 'Morning', 'Night', 'Night', 'Morning', 'Night',\n",
       "       'Morning', 'Morning', 'Night', 'Morning', 'Night', 'Night',\n",
       "       'Night', 'Morning', 'Morning', 'Morning', 'Afternoon', 'Night',\n",
       "       'Morning', 'Afternoon', 'Night', 'Night', 'Night', 'Afternoon',\n",
       "       'Morning', 'Morning', 'Morning', 'Morning', 'Night', 'Night',\n",
       "       'Morning', 'Morning', 'Morning', 'Afternoon', 'Night', 'Morning',\n",
       "       'Morning', 'Afternoon', 'Morning', 'Night', 'Afternoon',\n",
       "       'Afternoon', 'Afternoon', 'Morning', 'Morning', 'Morning',\n",
       "       'Afternoon', 'Afternoon', 'Night', 'Afternoon', 'Morning',\n",
       "       'Morning', 'Afternoon', 'Night', 'Afternoon', 'Afternoon',\n",
       "       'Afternoon', 'Morning', 'Morning', 'Morning', 'Afternoon', 'Night',\n",
       "       'Afternoon', 'Afternoon'], dtype='<U9')"
      ]
     },
     "execution_count": 5,
     "metadata": {},
     "output_type": "execute_result"
    }
   ],
   "source": [
    "np_shifts = np.array(data_2,dtype=str)\n",
    "np_shifts"
   ]
  },
  {
   "cell_type": "code",
   "execution_count": 6,
   "metadata": {},
   "outputs": [
    {
     "data": {
      "text/plain": [
       "numpy.ndarray"
      ]
     },
     "execution_count": 6,
     "metadata": {},
     "output_type": "execute_result"
    }
   ],
   "source": [
    "type(np_shifts)"
   ]
  },
  {
   "cell_type": "markdown",
   "metadata": {},
   "source": [
    "4.Tính hiệu suất sản xuất trung bình của nhân viên làm việc trong ca 'Morning'"
   ]
  },
  {
   "cell_type": "code",
   "execution_count": 7,
   "metadata": {},
   "outputs": [
    {
     "data": {
      "text/plain": [
       "array([117, 133, 137, 138,  89, 138,  97,  69,  89, 115,  59,  82,  85,\n",
       "       125, 105,  50,  67, 129,  54,  92,  51, 115,  91,  61,  96, 141,\n",
       "        62,  92, 134,  97,  53, 149, 108,  73])"
      ]
     },
     "execution_count": 7,
     "metadata": {},
     "output_type": "execute_result"
    }
   ],
   "source": [
    "morning_efficiency = np_efficiency[np_shifts=='Morning']\n",
    "morning_efficiency"
   ]
  },
  {
   "cell_type": "code",
   "execution_count": 8,
   "metadata": {},
   "outputs": [
    {
     "data": {
      "text/plain": [
       "np.float64(96.8529411764706)"
      ]
     },
     "execution_count": 8,
     "metadata": {},
     "output_type": "execute_result"
    }
   ],
   "source": [
    "avg = np.mean(morning_efficiency)\n",
    "avg"
   ]
  },
  {
   "cell_type": "markdown",
   "metadata": {},
   "source": [
    "5.Tính hiệu suất trung bình của nhân viên làm việc khác ca morning"
   ]
  },
  {
   "cell_type": "code",
   "execution_count": 9,
   "metadata": {},
   "outputs": [
    {
     "data": {
      "text/plain": [
       "array([ 94,  97, 114, 117,  59,  71,  86, 120, 138,  62, 108, 115, 137,\n",
       "        96, 131,  87,  75, 127, 122,  59,  70, 130, 119, 129, 114, 132,\n",
       "       149, 138,  99,  79,  69,  64,  82, 107,  81, 124,  73,  78,  84,\n",
       "        50,  86, 103,  55,  88, 108,  81, 107,  85, 132,  50,  64, 149,\n",
       "       103, 125, 118,  56, 118, 126, 102, 128,  65,  70, 129,  63, 135,\n",
       "        98])"
      ]
     },
     "execution_count": 9,
     "metadata": {},
     "output_type": "execute_result"
    }
   ],
   "source": [
    "diff_morning_efficiency = np_efficiency[np_shifts!='Morning']\n",
    "diff_morning_efficiency"
   ]
  },
  {
   "cell_type": "code",
   "execution_count": 10,
   "metadata": {},
   "outputs": [
    {
     "data": {
      "text/plain": [
       "np.float64(98.93939393939394)"
      ]
     },
     "execution_count": 10,
     "metadata": {},
     "output_type": "execute_result"
    }
   ],
   "source": [
    "avg_1 = np.mean(diff_morning_efficiency)\n",
    "avg_1"
   ]
  },
  {
   "cell_type": "markdown",
   "metadata": {},
   "source": [
    "6.Tạo mảng dữ liệu có cấu trúc với gồm shiffts là kiểu văn bản U10 và efficiency là float"
   ]
  },
  {
   "cell_type": "code",
   "execution_count": 11,
   "metadata": {},
   "outputs": [
    {
     "data": {
      "text/plain": [
       "array([('Afternoon',  94.), ('Afternoon',  97.), ('Afternoon', 114.),\n",
       "       ('Morning', 117.), ('Afternoon', 117.), ('Night',  59.),\n",
       "       ('Morning', 133.), ('Afternoon',  71.), ('Night',  86.),\n",
       "       ('Morning', 137.), ('Night', 120.), ('Morning', 138.),\n",
       "       ('Afternoon', 138.), ('Night',  62.), ('Night', 108.),\n",
       "       ('Afternoon', 115.), ('Morning',  89.), ('Afternoon', 137.),\n",
       "       ('Afternoon',  96.), ('Morning', 138.), ('Night', 131.),\n",
       "       ('Night',  87.), ('Night',  75.), ('Night', 127.),\n",
       "       ('Afternoon', 122.), ('Night',  59.), ('Night',  70.),\n",
       "       ('Night', 130.), ('Night', 119.), ('Night', 129.),\n",
       "       ('Morning',  97.), ('Afternoon', 114.), ('Night', 132.),\n",
       "       ('Night', 149.), ('Afternoon', 138.), ('Night',  99.),\n",
       "       ('Afternoon',  79.), ('Morning',  69.), ('Night',  69.),\n",
       "       ('Night',  64.), ('Morning',  89.), ('Night',  82.),\n",
       "       ('Morning', 115.), ('Morning',  59.), ('Night', 107.),\n",
       "       ('Morning',  82.), ('Night',  81.), ('Night', 124.),\n",
       "       ('Night',  73.), ('Morning',  85.), ('Morning', 125.),\n",
       "       ('Morning', 105.), ('Afternoon',  78.), ('Night',  84.),\n",
       "       ('Morning',  50.), ('Afternoon',  50.), ('Night',  86.),\n",
       "       ('Night', 103.), ('Night',  55.), ('Afternoon',  88.),\n",
       "       ('Morning',  67.), ('Morning', 129.), ('Morning',  54.),\n",
       "       ('Morning',  92.), ('Night', 108.), ('Night',  81.),\n",
       "       ('Morning',  51.), ('Morning', 115.), ('Morning',  91.),\n",
       "       ('Afternoon', 107.), ('Night',  85.), ('Morning',  61.),\n",
       "       ('Morning',  96.), ('Afternoon', 132.), ('Morning', 141.),\n",
       "       ('Night',  50.), ('Afternoon',  64.), ('Afternoon', 149.),\n",
       "       ('Afternoon', 103.), ('Morning',  62.), ('Morning',  92.),\n",
       "       ('Morning', 134.), ('Afternoon', 125.), ('Afternoon', 118.),\n",
       "       ('Night',  56.), ('Afternoon', 118.), ('Morning',  97.),\n",
       "       ('Morning',  53.), ('Afternoon', 126.), ('Night', 102.),\n",
       "       ('Afternoon', 128.), ('Afternoon',  65.), ('Afternoon',  70.),\n",
       "       ('Morning', 149.), ('Morning', 108.), ('Morning',  73.),\n",
       "       ('Afternoon', 129.), ('Night',  63.), ('Afternoon', 135.),\n",
       "       ('Afternoon',  98.)], dtype=[('data_2', '<U10'), ('data_1', '<f8')])"
      ]
     },
     "execution_count": 11,
     "metadata": {},
     "output_type": "execute_result"
    }
   ],
   "source": [
    "worker = np.array(list(zip(data_2,data_1)),dtype=[('data_2','U10'),('data_1','float')])\n",
    "worker"
   ]
  },
  {
   "cell_type": "markdown",
   "metadata": {},
   "source": [
    "7.Sắp xếp workers theo efficiency"
   ]
  },
  {
   "cell_type": "code",
   "execution_count": 12,
   "metadata": {},
   "outputs": [
    {
     "data": {
      "text/plain": [
       "array([('Afternoon',  50.), ('Morning',  50.), ('Night',  50.),\n",
       "       ('Morning',  51.), ('Morning',  53.), ('Morning',  54.),\n",
       "       ('Night',  55.), ('Night',  56.), ('Morning',  59.),\n",
       "       ('Night',  59.), ('Night',  59.), ('Morning',  61.),\n",
       "       ('Morning',  62.), ('Night',  62.), ('Night',  63.),\n",
       "       ('Afternoon',  64.), ('Night',  64.), ('Afternoon',  65.),\n",
       "       ('Morning',  67.), ('Morning',  69.), ('Night',  69.),\n",
       "       ('Afternoon',  70.), ('Night',  70.), ('Afternoon',  71.),\n",
       "       ('Morning',  73.), ('Night',  73.), ('Night',  75.),\n",
       "       ('Afternoon',  78.), ('Afternoon',  79.), ('Night',  81.),\n",
       "       ('Night',  81.), ('Morning',  82.), ('Night',  82.),\n",
       "       ('Night',  84.), ('Morning',  85.), ('Night',  85.),\n",
       "       ('Night',  86.), ('Night',  86.), ('Night',  87.),\n",
       "       ('Afternoon',  88.), ('Morning',  89.), ('Morning',  89.),\n",
       "       ('Morning',  91.), ('Morning',  92.), ('Morning',  92.),\n",
       "       ('Afternoon',  94.), ('Afternoon',  96.), ('Morning',  96.),\n",
       "       ('Afternoon',  97.), ('Morning',  97.), ('Morning',  97.),\n",
       "       ('Afternoon',  98.), ('Night',  99.), ('Night', 102.),\n",
       "       ('Afternoon', 103.), ('Night', 103.), ('Morning', 105.),\n",
       "       ('Afternoon', 107.), ('Night', 107.), ('Morning', 108.),\n",
       "       ('Night', 108.), ('Night', 108.), ('Afternoon', 114.),\n",
       "       ('Afternoon', 114.), ('Afternoon', 115.), ('Morning', 115.),\n",
       "       ('Morning', 115.), ('Afternoon', 117.), ('Morning', 117.),\n",
       "       ('Afternoon', 118.), ('Afternoon', 118.), ('Night', 119.),\n",
       "       ('Night', 120.), ('Afternoon', 122.), ('Night', 124.),\n",
       "       ('Afternoon', 125.), ('Morning', 125.), ('Afternoon', 126.),\n",
       "       ('Night', 127.), ('Afternoon', 128.), ('Afternoon', 129.),\n",
       "       ('Morning', 129.), ('Night', 129.), ('Night', 130.),\n",
       "       ('Night', 131.), ('Afternoon', 132.), ('Night', 132.),\n",
       "       ('Morning', 133.), ('Morning', 134.), ('Afternoon', 135.),\n",
       "       ('Afternoon', 137.), ('Morning', 137.), ('Afternoon', 138.),\n",
       "       ('Afternoon', 138.), ('Morning', 138.), ('Morning', 138.),\n",
       "       ('Morning', 141.), ('Afternoon', 149.), ('Morning', 149.),\n",
       "       ('Night', 149.)], dtype=[('data_2', '<U10'), ('data_1', '<f8')])"
      ]
     },
     "execution_count": 12,
     "metadata": {},
     "output_type": "execute_result"
    }
   ],
   "source": [
    "sorted_efficiency = np.sort(worker,order='data_1')\n",
    "sorted_efficiency"
   ]
  },
  {
   "cell_type": "code",
   "execution_count": 13,
   "metadata": {},
   "outputs": [],
   "source": [
    "highest=sorted_efficiency[-1]"
   ]
  },
  {
   "cell_type": "code",
   "execution_count": 14,
   "metadata": {},
   "outputs": [],
   "source": [
    "lowest=sorted_efficiency[0]"
   ]
  },
  {
   "cell_type": "code",
   "execution_count": 15,
   "metadata": {},
   "outputs": [
    {
     "name": "stdout",
     "output_type": "stream",
     "text": [
      "ca làm việc có hiệu suất cao nhất:Night 149.0\n"
     ]
    }
   ],
   "source": [
    "print(f\"ca làm việc có hiệu suất cao nhất:{highest['data_2']} {(highest['data_1'])}\")"
   ]
  },
  {
   "cell_type": "code",
   "execution_count": 16,
   "metadata": {},
   "outputs": [
    {
     "name": "stdout",
     "output_type": "stream",
     "text": [
      "ca làm việc có hiệu suất thấp nhất:Afternoon 50.0\n"
     ]
    }
   ],
   "source": [
    "print(f\"ca làm việc có hiệu suất thấp nhất:{lowest['data_2']} {(lowest['data_1'])}\")"
   ]
  }
 ],
 "metadata": {
  "kernelspec": {
   "display_name": "Python 3",
   "language": "python",
   "name": "python3"
  },
  "language_info": {
   "codemirror_mode": {
    "name": "ipython",
    "version": 3
   },
   "file_extension": ".py",
   "mimetype": "text/x-python",
   "name": "python",
   "nbconvert_exporter": "python",
   "pygments_lexer": "ipython3",
   "version": "3.9.6"
  }
 },
 "nbformat": 4,
 "nbformat_minor": 2
}
